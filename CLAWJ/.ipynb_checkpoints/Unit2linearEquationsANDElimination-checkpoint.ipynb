{
 "cells": [
  {
   "cell_type": "markdown",
   "metadata": {},
   "source": [
    "# Unit 2: Linear Equations and Elimination\n",
    "\n",
    "In this unit:\n",
    "1. Linear equations\n",
    "1. Gaussian elimination\n",
    "1. Pivots\n",
    "1. Rank\n",
    "1. LU factorization\n",
    "1. Taylor series expansions with Jacobians"
   ]
  },
  {
   "cell_type": "markdown",
   "metadata": {},
   "source": [
    "### Linear Equations"
   ]
  },
  {
   "cell_type": "markdown",
   "metadata": {},
   "source": [
    "$$\n",
    "\\begin{array}{rcl}\n",
    "x - 2y &=& 1\\\\\n",
    "3x + 2y &=& 11\n",
    "\\end{array}\n",
    "$$"
   ]
  },
  {
   "cell_type": "markdown",
   "metadata": {},
   "source": [
    "or\n",
    "$$\n",
    "\\begin{bmatrix}\n",
    "1 & -2 \\\\\n",
    "3 & 2\n",
    "\\end{bmatrix}\n",
    "\\begin{bmatrix}\n",
    "x \\\\\n",
    "y\n",
    "\\end{bmatrix}\n",
    "=\n",
    "\\begin{bmatrix}\n",
    "1 \\\\\n",
    "11\n",
    "\\end{bmatrix}\n",
    "$$"
   ]
  },
  {
   "cell_type": "markdown",
   "metadata": {},
   "source": [
    "Multiply first equation by $3$ and subtract from second equation:"
   ]
  },
  {
   "cell_type": "markdown",
   "metadata": {},
   "source": [
    "$$\n",
    "\\begin{array}{rcl}\n",
    "x - 2y &=& 1\\\\\n",
    " 8y &=& 8\n",
    "\\end{array}\n",
    "$$"
   ]
  },
  {
   "cell_type": "markdown",
   "metadata": {},
   "source": [
    "or\n",
    "$$\n",
    "\\begin{bmatrix}\n",
    "1 & -2 \\\\\n",
    "0 & 8\n",
    "\\end{bmatrix}\n",
    "\\begin{bmatrix}\n",
    "x \\\\\n",
    "y\n",
    "\\end{bmatrix}\n",
    "=\n",
    "\\begin{bmatrix}\n",
    "1 \\\\\n",
    "8\n",
    "\\end{bmatrix}\n",
    "$$"
   ]
  },
  {
   "cell_type": "markdown",
   "metadata": {},
   "source": [
    "Now $y=1$ and from this we can find $x$"
   ]
  },
  {
   "cell_type": "markdown",
   "metadata": {},
   "source": [
    "$1x -2 \\times 1 = 1$\n",
    "\n",
    "So $x = 3$\n",
    "\n",
    "So solution is $[3,1]^T$"
   ]
  },
  {
   "cell_type": "code",
   "execution_count": 1,
   "metadata": {},
   "outputs": [],
   "source": [
    "A = [1 -2; 3 2]; b=[1,11];"
   ]
  },
  {
   "cell_type": "code",
   "execution_count": 5,
   "metadata": {},
   "outputs": [
    {
     "data": {
      "text/plain": [
       "(true, [0, 0])"
      ]
     },
     "execution_count": 5,
     "metadata": {},
     "output_type": "execute_result"
    }
   ],
   "source": [
    "A*[3,1] == b, A*[3,1] - b"
   ]
  },
  {
   "cell_type": "code",
   "execution_count": 6,
   "metadata": {},
   "outputs": [
    {
     "data": {
      "text/plain": [
       "2×2 Array{Int64,2}:\n",
       " 1  -2\n",
       " 0   8"
      ]
     },
     "execution_count": 6,
     "metadata": {},
     "output_type": "execute_result"
    }
   ],
   "source": [
    "A2 = copy(A) #doing the row operation manually\n",
    "A2[2,:] = A[2,:] - 3A[1,:];\n",
    "A2"
   ]
  },
  {
   "cell_type": "markdown",
   "metadata": {},
   "source": [
    "Now y = 1"
   ]
  },
  {
   "cell_type": "markdown",
   "metadata": {},
   "source": [
    "First equations becomes: $1x - 2\\times1 = 1$\n",
    "\n",
    "So $x = 3$"
   ]
  },
  {
   "cell_type": "code",
   "execution_count": 14,
   "metadata": {},
   "outputs": [
    {
     "data": {
      "text/plain": [
       "2-element Array{Int64,1}:\n",
       "  1\n",
       " 11"
      ]
     },
     "execution_count": 14,
     "metadata": {},
     "output_type": "execute_result"
    }
   ],
   "source": [
    "A*[3,1]"
   ]
  },
  {
   "cell_type": "code",
   "execution_count": 13,
   "metadata": {},
   "outputs": [
    {
     "data": {
      "text/plain": [
       "true"
      ]
     },
     "execution_count": 13,
     "metadata": {},
     "output_type": "execute_result"
    }
   ],
   "source": [
    "A*[3,1] == [1,11]"
   ]
  },
  {
   "cell_type": "code",
   "execution_count": 8,
   "metadata": {},
   "outputs": [
    {
     "data": {
      "text/plain": [
       "2-element Array{Float64,1}:\n",
       " 3.0\n",
       " 1.0"
      ]
     },
     "execution_count": 8,
     "metadata": {},
     "output_type": "execute_result"
    }
   ],
   "source": [
    "b = [1,11]\n",
    "A \\ b #solving using the `backslash' operator"
   ]
  },
  {
   "cell_type": "code",
   "execution_count": 13,
   "metadata": {},
   "outputs": [
    {
     "data": {
      "text/plain": [
       "4.71107479841814e-12"
      ]
     },
     "execution_count": 13,
     "metadata": {},
     "output_type": "execute_result"
    }
   ],
   "source": [
    "using LinearAlgebra\n",
    "A = rand(1000,1000)\n",
    "b = rand(1000);\n",
    "xSol = A \\ b\n",
    "norm(A*xSol - b)"
   ]
  },
  {
   "cell_type": "code",
   "execution_count": 14,
   "metadata": {},
   "outputs": [
    {
     "name": "stdout",
     "output_type": "stream",
     "text": [
      "search: \u001b[0m\u001b[1m\\\u001b[22m\n",
      "\n"
     ]
    },
    {
     "data": {
      "text/latex": [
       "\\begin{verbatim}\n",
       "\\(x, y)\n",
       "\\end{verbatim}\n",
       "Left division operator: multiplication of \\texttt{y} by the inverse of \\texttt{x} on the left. Gives floating-point results for integer arguments.\n",
       "\n",
       "\\section{Examples}\n",
       "\\begin{verbatim}\n",
       "julia> 3 \\ 6\n",
       "2.0\n",
       "\n",
       "julia> inv(3) * 6\n",
       "2.0\n",
       "\n",
       "julia> A = [4 3; 2 1]; x = [5, 6];\n",
       "\n",
       "julia> A \\ x\n",
       "2-element Array{Float64,1}:\n",
       "  6.5\n",
       " -7.0\n",
       "\n",
       "julia> inv(A) * x\n",
       "2-element Array{Float64,1}:\n",
       "  6.5\n",
       " -7.0\n",
       "\\end{verbatim}\n",
       "\\rule{\\textwidth}{1pt}\n",
       "\\begin{verbatim}\n",
       "\\(A, B)\n",
       "\\end{verbatim}\n",
       "Matrix division using a polyalgorithm. For input matrices \\texttt{A} and \\texttt{B}, the result \\texttt{X} is such that \\texttt{A*X == B} when \\texttt{A} is square. The solver that is used depends upon the structure of \\texttt{A}.  If \\texttt{A} is upper or lower triangular (or diagonal), no factorization of \\texttt{A} is required and the system is solved with either forward or backward substitution. For non-triangular square matrices, an LU factorization is used.\n",
       "\n",
       "For rectangular \\texttt{A} the result is the minimum-norm least squares solution computed by a pivoted QR factorization of \\texttt{A} and a rank estimate of \\texttt{A} based on the R factor.\n",
       "\n",
       "When \\texttt{A} is sparse, a similar polyalgorithm is used. For indefinite matrices, the \\texttt{LDLt} factorization does not use pivoting during the numerical factorization and therefore the procedure can fail even for invertible matrices.\n",
       "\n",
       "\\section{Examples}\n",
       "\\begin{verbatim}\n",
       "julia> A = [1 0; 1 -2]; B = [32; -4];\n",
       "\n",
       "julia> X = A \\ B\n",
       "2-element Array{Float64,1}:\n",
       " 32.0\n",
       " 18.0\n",
       "\n",
       "julia> A * X == B\n",
       "true\n",
       "\\end{verbatim}\n",
       "\\rule{\\textwidth}{1pt}\n",
       "\\begin{verbatim}\n",
       "(\\)(F::QRSparse, B::StridedVecOrMat)\n",
       "\\end{verbatim}\n",
       "Solve the least squares problem $\\min\\|Ax - b\\|^2$ or the linear system of equations $Ax=b$ when \\texttt{F} is the sparse QR factorization of $A$. A basic solution is returned when the problem is underdetermined.\n",
       "\n",
       "\\section{Examples}\n",
       "\\begin{verbatim}\n",
       "julia> A = sparse([1,2,4], [1,1,1], [1.0,1.0,1.0], 4, 2)\n",
       "4×2 SparseMatrixCSC{Float64,Int64} with 3 stored entries:\n",
       "  [1, 1]  =  1.0\n",
       "  [2, 1]  =  1.0\n",
       "  [4, 1]  =  1.0\n",
       "\n",
       "julia> qr(A)\\fill(1.0, 4)\n",
       "2-element Array{Float64,1}:\n",
       " 1.0\n",
       " 0.0\n",
       "\\end{verbatim}\n"
      ],
      "text/markdown": [
       "```\n",
       "\\(x, y)\n",
       "```\n",
       "\n",
       "Left division operator: multiplication of `y` by the inverse of `x` on the left. Gives floating-point results for integer arguments.\n",
       "\n",
       "# Examples\n",
       "\n",
       "```jldoctest\n",
       "julia> 3 \\ 6\n",
       "2.0\n",
       "\n",
       "julia> inv(3) * 6\n",
       "2.0\n",
       "\n",
       "julia> A = [4 3; 2 1]; x = [5, 6];\n",
       "\n",
       "julia> A \\ x\n",
       "2-element Array{Float64,1}:\n",
       "  6.5\n",
       " -7.0\n",
       "\n",
       "julia> inv(A) * x\n",
       "2-element Array{Float64,1}:\n",
       "  6.5\n",
       " -7.0\n",
       "```\n",
       "\n",
       "---\n",
       "\n",
       "```\n",
       "\\(A, B)\n",
       "```\n",
       "\n",
       "Matrix division using a polyalgorithm. For input matrices `A` and `B`, the result `X` is such that `A*X == B` when `A` is square. The solver that is used depends upon the structure of `A`.  If `A` is upper or lower triangular (or diagonal), no factorization of `A` is required and the system is solved with either forward or backward substitution. For non-triangular square matrices, an LU factorization is used.\n",
       "\n",
       "For rectangular `A` the result is the minimum-norm least squares solution computed by a pivoted QR factorization of `A` and a rank estimate of `A` based on the R factor.\n",
       "\n",
       "When `A` is sparse, a similar polyalgorithm is used. For indefinite matrices, the `LDLt` factorization does not use pivoting during the numerical factorization and therefore the procedure can fail even for invertible matrices.\n",
       "\n",
       "# Examples\n",
       "\n",
       "```jldoctest\n",
       "julia> A = [1 0; 1 -2]; B = [32; -4];\n",
       "\n",
       "julia> X = A \\ B\n",
       "2-element Array{Float64,1}:\n",
       " 32.0\n",
       " 18.0\n",
       "\n",
       "julia> A * X == B\n",
       "true\n",
       "```\n",
       "\n",
       "---\n",
       "\n",
       "```\n",
       "(\\)(F::QRSparse, B::StridedVecOrMat)\n",
       "```\n",
       "\n",
       "Solve the least squares problem $\\min\\|Ax - b\\|^2$ or the linear system of equations $Ax=b$ when `F` is the sparse QR factorization of $A$. A basic solution is returned when the problem is underdetermined.\n",
       "\n",
       "# Examples\n",
       "\n",
       "```jldoctest\n",
       "julia> A = sparse([1,2,4], [1,1,1], [1.0,1.0,1.0], 4, 2)\n",
       "4×2 SparseMatrixCSC{Float64,Int64} with 3 stored entries:\n",
       "  [1, 1]  =  1.0\n",
       "  [2, 1]  =  1.0\n",
       "  [4, 1]  =  1.0\n",
       "\n",
       "julia> qr(A)\\fill(1.0, 4)\n",
       "2-element Array{Float64,1}:\n",
       " 1.0\n",
       " 0.0\n",
       "```\n"
      ],
      "text/plain": [
       "\u001b[36m  \\(x, y)\u001b[39m\n",
       "\n",
       "  Left division operator: multiplication of \u001b[36my\u001b[39m by the inverse of \u001b[36mx\u001b[39m on the left.\n",
       "  Gives floating-point results for integer arguments.\n",
       "\n",
       "\u001b[1m  Examples\u001b[22m\n",
       "\u001b[1m  ≡≡≡≡≡≡≡≡≡≡\u001b[22m\n",
       "\n",
       "\u001b[36m  julia> 3 \\ 6\u001b[39m\n",
       "\u001b[36m  2.0\u001b[39m\n",
       "\u001b[36m  \u001b[39m\n",
       "\u001b[36m  julia> inv(3) * 6\u001b[39m\n",
       "\u001b[36m  2.0\u001b[39m\n",
       "\u001b[36m  \u001b[39m\n",
       "\u001b[36m  julia> A = [4 3; 2 1]; x = [5, 6];\u001b[39m\n",
       "\u001b[36m  \u001b[39m\n",
       "\u001b[36m  julia> A \\ x\u001b[39m\n",
       "\u001b[36m  2-element Array{Float64,1}:\u001b[39m\n",
       "\u001b[36m    6.5\u001b[39m\n",
       "\u001b[36m   -7.0\u001b[39m\n",
       "\u001b[36m  \u001b[39m\n",
       "\u001b[36m  julia> inv(A) * x\u001b[39m\n",
       "\u001b[36m  2-element Array{Float64,1}:\u001b[39m\n",
       "\u001b[36m    6.5\u001b[39m\n",
       "\u001b[36m   -7.0\u001b[39m\n",
       "\n",
       "  ────────────────────────────────────────────────────────────────────────────\n",
       "\n",
       "\u001b[36m  \\(A, B)\u001b[39m\n",
       "\n",
       "  Matrix division using a polyalgorithm. For input matrices \u001b[36mA\u001b[39m and \u001b[36mB\u001b[39m, the\n",
       "  result \u001b[36mX\u001b[39m is such that \u001b[36mA*X == B\u001b[39m when \u001b[36mA\u001b[39m is square. The solver that is used\n",
       "  depends upon the structure of \u001b[36mA\u001b[39m. If \u001b[36mA\u001b[39m is upper or lower triangular (or\n",
       "  diagonal), no factorization of \u001b[36mA\u001b[39m is required and the system is solved with\n",
       "  either forward or backward substitution. For non-triangular square matrices,\n",
       "  an LU factorization is used.\n",
       "\n",
       "  For rectangular \u001b[36mA\u001b[39m the result is the minimum-norm least squares solution\n",
       "  computed by a pivoted QR factorization of \u001b[36mA\u001b[39m and a rank estimate of \u001b[36mA\u001b[39m based\n",
       "  on the R factor.\n",
       "\n",
       "  When \u001b[36mA\u001b[39m is sparse, a similar polyalgorithm is used. For indefinite matrices,\n",
       "  the \u001b[36mLDLt\u001b[39m factorization does not use pivoting during the numerical\n",
       "  factorization and therefore the procedure can fail even for invertible\n",
       "  matrices.\n",
       "\n",
       "\u001b[1m  Examples\u001b[22m\n",
       "\u001b[1m  ≡≡≡≡≡≡≡≡≡≡\u001b[22m\n",
       "\n",
       "\u001b[36m  julia> A = [1 0; 1 -2]; B = [32; -4];\u001b[39m\n",
       "\u001b[36m  \u001b[39m\n",
       "\u001b[36m  julia> X = A \\ B\u001b[39m\n",
       "\u001b[36m  2-element Array{Float64,1}:\u001b[39m\n",
       "\u001b[36m   32.0\u001b[39m\n",
       "\u001b[36m   18.0\u001b[39m\n",
       "\u001b[36m  \u001b[39m\n",
       "\u001b[36m  julia> A * X == B\u001b[39m\n",
       "\u001b[36m  true\u001b[39m\n",
       "\n",
       "  ────────────────────────────────────────────────────────────────────────────\n",
       "\n",
       "\u001b[36m  (\\)(F::QRSparse, B::StridedVecOrMat)\u001b[39m\n",
       "\n",
       "  Solve the least squares problem \u001b[35m\\min\\|Ax - b\\|^2\u001b[39m or the linear system of\n",
       "  equations \u001b[35mAx=b\u001b[39m when \u001b[36mF\u001b[39m is the sparse QR factorization of \u001b[35mA\u001b[39m. A basic solution\n",
       "  is returned when the problem is underdetermined.\n",
       "\n",
       "\u001b[1m  Examples\u001b[22m\n",
       "\u001b[1m  ≡≡≡≡≡≡≡≡≡≡\u001b[22m\n",
       "\n",
       "\u001b[36m  julia> A = sparse([1,2,4], [1,1,1], [1.0,1.0,1.0], 4, 2)\u001b[39m\n",
       "\u001b[36m  4×2 SparseMatrixCSC{Float64,Int64} with 3 stored entries:\u001b[39m\n",
       "\u001b[36m    [1, 1]  =  1.0\u001b[39m\n",
       "\u001b[36m    [2, 1]  =  1.0\u001b[39m\n",
       "\u001b[36m    [4, 1]  =  1.0\u001b[39m\n",
       "\u001b[36m  \u001b[39m\n",
       "\u001b[36m  julia> qr(A)\\fill(1.0, 4)\u001b[39m\n",
       "\u001b[36m  2-element Array{Float64,1}:\u001b[39m\n",
       "\u001b[36m   1.0\u001b[39m\n",
       "\u001b[36m   0.0\u001b[39m"
      ]
     },
     "execution_count": 14,
     "metadata": {},
     "output_type": "execute_result"
    }
   ],
   "source": [
    "? \\"
   ]
  },
  {
   "cell_type": "markdown",
   "metadata": {},
   "source": [
    "$$\n",
    "A x = b\n",
    "$$"
   ]
  },
  {
   "cell_type": "markdown",
   "metadata": {},
   "source": [
    "Left mulitply $A^{-1}$ to $I x = A^{-1} b$ or $x = A^{-1} b$"
   ]
  },
  {
   "cell_type": "code",
   "execution_count": 16,
   "metadata": {},
   "outputs": [
    {
     "data": {
      "text/plain": [
       "2-element Array{Float64,1}:\n",
       " 3.0\n",
       " 1.0"
      ]
     },
     "execution_count": 16,
     "metadata": {},
     "output_type": "execute_result"
    }
   ],
   "source": [
    "A = [1 -2; 3 2]; b=[1,11];\n",
    "inv(A)*b"
   ]
  },
  {
   "cell_type": "markdown",
   "metadata": {},
   "source": [
    "$$\n",
    "\\begin{array}{rcl}\n",
    "x - 2y &=& 1\\\\\n",
    "2x -4 y &=& 11\n",
    "\\end{array}\n",
    "$$"
   ]
  },
  {
   "cell_type": "code",
   "execution_count": 17,
   "metadata": {},
   "outputs": [
    {
     "data": {
      "text/plain": [
       "0.0"
      ]
     },
     "execution_count": 17,
     "metadata": {},
     "output_type": "execute_result"
    }
   ],
   "source": [
    "det([1 -2; \n",
    "     2 -4])"
   ]
  },
  {
   "cell_type": "markdown",
   "metadata": {},
   "source": [
    "$$\n",
    "\\begin{array}{rcl}\n",
    "x - 2y &=& 1\\\\\n",
    "3x -4 y &=& 11 \\\\\n",
    "7x -2y &=& 12\n",
    "\\end{array}\n",
    "$$"
   ]
  },
  {
   "cell_type": "code",
   "execution_count": 29,
   "metadata": {},
   "outputs": [
    {
     "data": {
      "text/plain": [
       "4×4 Array{Float64,2}:\n",
       " 10.0   2.0  2.0  3.0\n",
       "  3.0  12.0  8.0  1.0\n",
       "  2.0   4.0  8.0  8.0\n",
       "  1.0   4.0  5.0  0.0"
      ]
     },
     "execution_count": 29,
     "metadata": {},
     "output_type": "execute_result"
    }
   ],
   "source": [
    "A = [2 4 8 8;\n",
    "     3 12 8 1;\n",
    "     10 2 2 3;\n",
    "     1 4 5 0]\n",
    "A = [10.0   2.0  2.0  3.0;\n",
    "  3.0  12.0  8.0  1.0;\n",
    "  2.0   4.0  8.0  8.0;\n",
    "  1.0   4.0  5.0  0.0]"
   ]
  },
  {
   "cell_type": "code",
   "execution_count": 30,
   "metadata": {},
   "outputs": [],
   "source": [
    "ℓ21 = 3/10; ℓ31 = 2/10; ℓ41 = 1/10;"
   ]
  },
  {
   "cell_type": "code",
   "execution_count": 31,
   "metadata": {},
   "outputs": [
    {
     "data": {
      "text/plain": [
       "4×4 Array{Float64,2}:\n",
       " 10.0   2.0  2.0   3.0\n",
       "  0.0  11.4  7.4   0.1\n",
       "  0.0   3.6  7.6   7.4\n",
       "  0.0   3.8  4.8  -0.3"
      ]
     },
     "execution_count": 31,
     "metadata": {},
     "output_type": "execute_result"
    }
   ],
   "source": [
    "A1 = [\n",
    "    A[1,:]';\n",
    "(A[2,:]-ℓ21*A[1,:])'\n",
    "(A[3,:]-ℓ31*A[1,:])'\n",
    "(A[4,:]-ℓ41*A[1,:])'\n",
    "]"
   ]
  },
  {
   "cell_type": "code",
   "execution_count": 32,
   "metadata": {},
   "outputs": [],
   "source": [
    "ℓ32 = 3.6/11.4; ℓ42 = 3.8/11.4;"
   ]
  },
  {
   "cell_type": "code",
   "execution_count": 35,
   "metadata": {},
   "outputs": [
    {
     "data": {
      "text/plain": [
       "4×4 Array{Float64,2}:\n",
       " 10.0   2.0  2.0       3.0\n",
       "  0.0  11.4  7.4       0.1\n",
       "  0.0   0.0  5.26316   7.36842\n",
       "  0.0   0.0  2.33333  -0.333333"
      ]
     },
     "execution_count": 35,
     "metadata": {},
     "output_type": "execute_result"
    }
   ],
   "source": [
    "A2 = [\n",
    "    A1[1,:]';\n",
    "    A1[2,:]';\n",
    "    (A1[3,:]-ℓ32*A1[2,:])';\n",
    "    (A1[4,:]-ℓ42*A1[2,:])'\n",
    "]"
   ]
  },
  {
   "cell_type": "code",
   "execution_count": 38,
   "metadata": {},
   "outputs": [
    {
     "data": {
      "text/plain": [
       "0.44333315536673784"
      ]
     },
     "execution_count": 38,
     "metadata": {},
     "output_type": "execute_result"
    }
   ],
   "source": [
    "ℓ43 = 2.33333333/5.26316"
   ]
  },
  {
   "cell_type": "code",
   "execution_count": 40,
   "metadata": {},
   "outputs": [
    {
     "data": {
      "text/plain": [
       "4×4 Array{Float64,2}:\n",
       " 10.0   2.0  2.0          3.0\n",
       "  0.0  11.4  7.4          0.1\n",
       "  0.0   0.0  5.26316      7.36842\n",
       "  0.0   0.0  9.36666e-7  -3.6"
      ]
     },
     "execution_count": 40,
     "metadata": {},
     "output_type": "execute_result"
    }
   ],
   "source": [
    "A3 = [\n",
    "    A2[1,:]';\n",
    "    A2[2,:]';\n",
    "    A2[3,:]';\n",
    "    (A2[4,:]-ℓ43*A2[3,:])'\n",
    "]"
   ]
  },
  {
   "cell_type": "code",
   "execution_count": 42,
   "metadata": {},
   "outputs": [
    {
     "data": {
      "text/plain": [
       "4×4 Array{Float64,2}:\n",
       "  1.0  0.0  0.0  0.0\n",
       " -0.3  1.0  0.0  0.0\n",
       " -0.2  0.0  1.0  0.0\n",
       " -0.1  0.0  0.0  1.0"
      ]
     },
     "execution_count": 42,
     "metadata": {},
     "output_type": "execute_result"
    }
   ],
   "source": [
    "ℓ1 =[1 0 0 0 ;\n",
    "     -ℓ21 1 0 0 ;\n",
    "     -ℓ31 0 1 0 ;\n",
    "     -ℓ41 0 0 1]"
   ]
  },
  {
   "cell_type": "code",
   "execution_count": 43,
   "metadata": {},
   "outputs": [
    {
     "data": {
      "text/plain": [
       "4×4 Array{Float64,2}:\n",
       " 10.0   2.0  2.0   3.0\n",
       "  0.0  11.4  7.4   0.1\n",
       "  0.0   3.6  7.6   7.4\n",
       "  0.0   3.8  4.8  -0.3"
      ]
     },
     "execution_count": 43,
     "metadata": {},
     "output_type": "execute_result"
    }
   ],
   "source": [
    "ℓ1*A"
   ]
  },
  {
   "cell_type": "code",
   "execution_count": 44,
   "metadata": {},
   "outputs": [
    {
     "data": {
      "text/plain": [
       "4×4 Array{Float64,2}:\n",
       " 10.0   2.0  2.0   3.0\n",
       "  0.0  11.4  7.4   0.1\n",
       "  0.0   3.6  7.6   7.4\n",
       "  0.0   3.8  4.8  -0.3"
      ]
     },
     "execution_count": 44,
     "metadata": {},
     "output_type": "execute_result"
    }
   ],
   "source": [
    "A1"
   ]
  },
  {
   "cell_type": "code",
   "execution_count": 4,
   "metadata": {},
   "outputs": [],
   "source": [
    "using LinearAlgebra"
   ]
  },
  {
   "cell_type": "code",
   "execution_count": 14,
   "metadata": {},
   "outputs": [
    {
     "data": {
      "text/plain": [
       "4×4 Array{Float64,2}:\n",
       "  1.0         0.0        0.0       0.0\n",
       " -0.3         1.0        0.0       0.0\n",
       " -0.105263   -0.315789   1.0       0.0\n",
       "  0.0466667  -0.193333  -0.443333  1.0"
      ]
     },
     "execution_count": 14,
     "metadata": {},
     "output_type": "execute_result"
    }
   ],
   "source": [
    "inv(lu(A).L)"
   ]
  },
  {
   "cell_type": "code",
   "execution_count": 24,
   "metadata": {},
   "outputs": [
    {
     "data": {
      "text/plain": [
       "LU{Float64,Array{Float64,2}}\n",
       "L factor:\n",
       "4×4 Array{Float64,2}:\n",
       " 1.0  0.0       0.0       0.0\n",
       " 0.3  1.0       0.0       0.0\n",
       " 0.2  0.315789  1.0       0.0\n",
       " 0.1  0.333333  0.443333  1.0\n",
       "U factor:\n",
       "4×4 Array{Float64,2}:\n",
       " 10.0   2.0  2.0       3.0\n",
       "  0.0  11.4  7.4       0.1\n",
       "  0.0   0.0  5.26316   7.36842\n",
       "  0.0   0.0  0.0      -3.6"
      ]
     },
     "execution_count": 24,
     "metadata": {},
     "output_type": "execute_result"
    }
   ],
   "source": [
    "F = lu(A)"
   ]
  },
  {
   "cell_type": "code",
   "execution_count": 34,
   "metadata": {},
   "outputs": [
    {
     "data": {
      "text/plain": [
       "0.3333333333333333"
      ]
     },
     "execution_count": 34,
     "metadata": {},
     "output_type": "execute_result"
    }
   ],
   "source": [
    "ℓ42"
   ]
  },
  {
   "cell_type": "code",
   "execution_count": 28,
   "metadata": {},
   "outputs": [
    {
     "data": {
      "text/plain": [
       "4×4 Array{Float64,2}:\n",
       " 10.0   2.0  2.0  3.0\n",
       "  3.0  12.0  8.0  1.0\n",
       "  2.0   4.0  8.0  8.0\n",
       "  1.0   4.0  5.0  0.0"
      ]
     },
     "execution_count": 28,
     "metadata": {},
     "output_type": "execute_result"
    }
   ],
   "source": [
    "F.P*A"
   ]
  },
  {
   "cell_type": "code",
   "execution_count": 45,
   "metadata": {},
   "outputs": [
    {
     "name": "stdout",
     "output_type": "stream",
     "text": [
      "search: \u001b[0m\u001b[1ml\u001b[22m\u001b[0m\u001b[1mu\u001b[22m \u001b[0m\u001b[1ml\u001b[22m\u001b[0m\u001b[1mu\u001b[22m! \u001b[0m\u001b[1mL\u001b[22m\u001b[0m\u001b[1mU\u001b[22m f\u001b[0m\u001b[1ml\u001b[22m\u001b[0m\u001b[1mu\u001b[22msh va\u001b[0m\u001b[1ml\u001b[22m\u001b[0m\u001b[1mu\u001b[22mes inc\u001b[0m\u001b[1ml\u001b[22m\u001b[0m\u001b[1mu\u001b[22mde inc\u001b[0m\u001b[1ml\u001b[22m\u001b[0m\u001b[1mu\u001b[22mde_string inc\u001b[0m\u001b[1ml\u001b[22m\u001b[0m\u001b[1mu\u001b[22mde_dependency \u001b[0m\u001b[1ml\u001b[22mm\u001b[0m\u001b[1mu\u001b[22ml!\n",
      "\n"
     ]
    },
    {
     "data": {
      "text/latex": [
       "\\begin{verbatim}\n",
       "lu(A, pivot=Val(true); check = true) -> F::LU\n",
       "\\end{verbatim}\n",
       "Compute the LU factorization of \\texttt{A}.\n",
       "\n",
       "When \\texttt{check = true}, an error is thrown if the decomposition fails. When \\texttt{check = false}, responsibility for checking the decomposition's validity (via \\href{@ref}{\\texttt{issuccess}}) lies with the user.\n",
       "\n",
       "In most cases, if \\texttt{A} is a subtype \\texttt{S} of \\texttt{AbstractMatrix\\{T\\}} with an element type \\texttt{T} supporting \\texttt{+}, \\texttt{-}, \\texttt{*} and \\texttt{/}, the return type is \\texttt{LU\\{T,S\\{T\\}\\}}. If pivoting is chosen (default) the element type should also support \\texttt{abs} and \\texttt{<}.\n",
       "\n",
       "The individual components of the factorization \\texttt{F} can be accessed via \\texttt{getproperty}:\n",
       "\n",
       "\\begin{tabular}\n",
       "{l | l}\n",
       "Component & Description \\\\\n",
       "\\hline\n",
       "\\texttt{F.L} & \\texttt{L} (lower triangular) part of \\texttt{LU} \\\\\n",
       "\\texttt{F.U} & \\texttt{U} (upper triangular) part of \\texttt{LU} \\\\\n",
       "\\texttt{F.p} & (right) permutation \\texttt{Vector} \\\\\n",
       "\\texttt{F.P} & (right) permutation \\texttt{Matrix} \\\\\n",
       "\\end{tabular}\n",
       "Iterating the factorization produces the components \\texttt{F.L}, \\texttt{F.U}, and \\texttt{F.p}.\n",
       "\n",
       "The relationship between \\texttt{F} and \\texttt{A} is\n",
       "\n",
       "\\texttt{F.L*F.U == A[F.p, :]}\n",
       "\n",
       "\\texttt{F} further supports the following functions:\n",
       "\n",
       "\\begin{tabular}\n",
       "{l | l | l}\n",
       "Supported function & \\texttt{LU} & \\texttt{LU\\{T,Tridiagonal\\{T\\}\\}} \\\\\n",
       "\\hline\n",
       "\\href{@ref}{\\texttt{/}} & ✓ &  \\\\\n",
       "\\href{@ref}{\\texttt{{\\textbackslash}}} & ✓ & ✓ \\\\\n",
       "\\href{@ref}{\\texttt{inv}} & ✓ & ✓ \\\\\n",
       "\\href{@ref}{\\texttt{det}} & ✓ & ✓ \\\\\n",
       "\\href{@ref}{\\texttt{logdet}} & ✓ & ✓ \\\\\n",
       "\\href{@ref}{\\texttt{logabsdet}} & ✓ & ✓ \\\\\n",
       "\\href{@ref}{\\texttt{size}} & ✓ & ✓ \\\\\n",
       "\\end{tabular}\n",
       "\\section{Examples}\n",
       "\\begin{verbatim}\n",
       "julia> A = [4 3; 6 3]\n",
       "2×2 Array{Int64,2}:\n",
       " 4  3\n",
       " 6  3\n",
       "\n",
       "julia> F = lu(A)\n",
       "LU{Float64,Array{Float64,2}}\n",
       "L factor:\n",
       "2×2 Array{Float64,2}:\n",
       " 1.0       0.0\n",
       " 0.666667  1.0\n",
       "U factor:\n",
       "2×2 Array{Float64,2}:\n",
       " 6.0  3.0\n",
       " 0.0  1.0\n",
       "\n",
       "julia> F.L * F.U == A[F.p, :]\n",
       "true\n",
       "\n",
       "julia> l, u, p = lu(A); # destructuring via iteration\n",
       "\n",
       "julia> l == F.L && u == F.U && p == F.p\n",
       "true\n",
       "\\end{verbatim}\n",
       "\\rule{\\textwidth}{1pt}\n",
       "\\begin{verbatim}\n",
       "lu(A::SparseMatrixCSC; check = true) -> F::UmfpackLU\n",
       "\\end{verbatim}\n",
       "Compute the LU factorization of a sparse matrix \\texttt{A}.\n",
       "\n",
       "For sparse \\texttt{A} with real or complex element type, the return type of \\texttt{F} is \\texttt{UmfpackLU\\{Tv, Ti\\}}, with \\texttt{Tv} = \\href{@ref}{\\texttt{Float64}} or \\texttt{ComplexF64} respectively and \\texttt{Ti} is an integer type (\\href{@ref}{\\texttt{Int32}} or \\href{@ref}{\\texttt{Int64}}).\n",
       "\n",
       "When \\texttt{check = true}, an error is thrown if the decomposition fails. When \\texttt{check = false}, responsibility for checking the decomposition's validity (via \\href{@ref}{\\texttt{issuccess}}) lies with the user.\n",
       "\n",
       "The individual components of the factorization \\texttt{F} can be accessed by indexing:\n",
       "\n",
       "\\begin{tabular}\n",
       "{l | l}\n",
       "Component & Description \\\\\n",
       "\\hline\n",
       "\\texttt{L} & \\texttt{L} (lower triangular) part of \\texttt{LU} \\\\\n",
       "\\texttt{U} & \\texttt{U} (upper triangular) part of \\texttt{LU} \\\\\n",
       "\\texttt{p} & right permutation \\texttt{Vector} \\\\\n",
       "\\texttt{q} & left permutation \\texttt{Vector} \\\\\n",
       "\\texttt{Rs} & \\texttt{Vector} of scaling factors \\\\\n",
       "\\texttt{:} & \\texttt{(L,U,p,q,Rs)} components \\\\\n",
       "\\end{tabular}\n",
       "The relation between \\texttt{F} and \\texttt{A} is\n",
       "\n",
       "\\texttt{F.L*F.U == (F.Rs .* A)[F.p, F.q]}\n",
       "\n",
       "\\texttt{F} further supports the following functions:\n",
       "\n",
       "\\begin{itemize}\n",
       "\\item \\href{@ref}{\\texttt{{\\textbackslash}}}\n",
       "\n",
       "\n",
       "\\item \\href{@ref}{\\texttt{cond}}\n",
       "\n",
       "\n",
       "\\item \\href{@ref}{\\texttt{det}}\n",
       "\n",
       "\\end{itemize}\n",
       "\\begin{quote}\n",
       "\\textbf{note}\n",
       "\n",
       "Note\n",
       "\n",
       "\\texttt{lu(A::SparseMatrixCSC)} uses the UMFPACK library that is part of SuiteSparse. As this library only supports sparse matrices with \\href{@ref}{\\texttt{Float64}} or \\texttt{ComplexF64} elements, \\texttt{lu} converts \\texttt{A} into a copy that is of type \\texttt{SparseMatrixCSC\\{Float64\\}} or \\texttt{SparseMatrixCSC\\{ComplexF64\\}} as appropriate.\n",
       "\n",
       "\\end{quote}\n"
      ],
      "text/markdown": [
       "```\n",
       "lu(A, pivot=Val(true); check = true) -> F::LU\n",
       "```\n",
       "\n",
       "Compute the LU factorization of `A`.\n",
       "\n",
       "When `check = true`, an error is thrown if the decomposition fails. When `check = false`, responsibility for checking the decomposition's validity (via [`issuccess`](@ref)) lies with the user.\n",
       "\n",
       "In most cases, if `A` is a subtype `S` of `AbstractMatrix{T}` with an element type `T` supporting `+`, `-`, `*` and `/`, the return type is `LU{T,S{T}}`. If pivoting is chosen (default) the element type should also support `abs` and `<`.\n",
       "\n",
       "The individual components of the factorization `F` can be accessed via `getproperty`:\n",
       "\n",
       "| Component | Description                         |\n",
       "|:--------- |:----------------------------------- |\n",
       "| `F.L`     | `L` (lower triangular) part of `LU` |\n",
       "| `F.U`     | `U` (upper triangular) part of `LU` |\n",
       "| `F.p`     | (right) permutation `Vector`        |\n",
       "| `F.P`     | (right) permutation `Matrix`        |\n",
       "\n",
       "Iterating the factorization produces the components `F.L`, `F.U`, and `F.p`.\n",
       "\n",
       "The relationship between `F` and `A` is\n",
       "\n",
       "`F.L*F.U == A[F.p, :]`\n",
       "\n",
       "`F` further supports the following functions:\n",
       "\n",
       "| Supported function  | `LU` | `LU{T,Tridiagonal{T}}` |\n",
       "|:------------------- |:---- |:---------------------- |\n",
       "| [`/`](@ref)         | ✓    |                        |\n",
       "| [`\\`](@ref)         | ✓    | ✓                      |\n",
       "| [`inv`](@ref)       | ✓    | ✓                      |\n",
       "| [`det`](@ref)       | ✓    | ✓                      |\n",
       "| [`logdet`](@ref)    | ✓    | ✓                      |\n",
       "| [`logabsdet`](@ref) | ✓    | ✓                      |\n",
       "| [`size`](@ref)      | ✓    | ✓                      |\n",
       "\n",
       "# Examples\n",
       "\n",
       "```jldoctest\n",
       "julia> A = [4 3; 6 3]\n",
       "2×2 Array{Int64,2}:\n",
       " 4  3\n",
       " 6  3\n",
       "\n",
       "julia> F = lu(A)\n",
       "LU{Float64,Array{Float64,2}}\n",
       "L factor:\n",
       "2×2 Array{Float64,2}:\n",
       " 1.0       0.0\n",
       " 0.666667  1.0\n",
       "U factor:\n",
       "2×2 Array{Float64,2}:\n",
       " 6.0  3.0\n",
       " 0.0  1.0\n",
       "\n",
       "julia> F.L * F.U == A[F.p, :]\n",
       "true\n",
       "\n",
       "julia> l, u, p = lu(A); # destructuring via iteration\n",
       "\n",
       "julia> l == F.L && u == F.U && p == F.p\n",
       "true\n",
       "```\n",
       "\n",
       "---\n",
       "\n",
       "```\n",
       "lu(A::SparseMatrixCSC; check = true) -> F::UmfpackLU\n",
       "```\n",
       "\n",
       "Compute the LU factorization of a sparse matrix `A`.\n",
       "\n",
       "For sparse `A` with real or complex element type, the return type of `F` is `UmfpackLU{Tv, Ti}`, with `Tv` = [`Float64`](@ref) or `ComplexF64` respectively and `Ti` is an integer type ([`Int32`](@ref) or [`Int64`](@ref)).\n",
       "\n",
       "When `check = true`, an error is thrown if the decomposition fails. When `check = false`, responsibility for checking the decomposition's validity (via [`issuccess`](@ref)) lies with the user.\n",
       "\n",
       "The individual components of the factorization `F` can be accessed by indexing:\n",
       "\n",
       "| Component | Description                         |\n",
       "|:--------- |:----------------------------------- |\n",
       "| `L`       | `L` (lower triangular) part of `LU` |\n",
       "| `U`       | `U` (upper triangular) part of `LU` |\n",
       "| `p`       | right permutation `Vector`          |\n",
       "| `q`       | left permutation `Vector`           |\n",
       "| `Rs`      | `Vector` of scaling factors         |\n",
       "| `:`       | `(L,U,p,q,Rs)` components           |\n",
       "\n",
       "The relation between `F` and `A` is\n",
       "\n",
       "`F.L*F.U == (F.Rs .* A)[F.p, F.q]`\n",
       "\n",
       "`F` further supports the following functions:\n",
       "\n",
       "  * [`\\`](@ref)\n",
       "  * [`cond`](@ref)\n",
       "  * [`det`](@ref)\n",
       "\n",
       "!!! note\n",
       "    `lu(A::SparseMatrixCSC)` uses the UMFPACK library that is part of SuiteSparse. As this library only supports sparse matrices with [`Float64`](@ref) or `ComplexF64` elements, `lu` converts `A` into a copy that is of type `SparseMatrixCSC{Float64}` or `SparseMatrixCSC{ComplexF64}` as appropriate.\n",
       "\n"
      ],
      "text/plain": [
       "\u001b[36m  lu(A, pivot=Val(true); check = true) -> F::LU\u001b[39m\n",
       "\n",
       "  Compute the LU factorization of \u001b[36mA\u001b[39m.\n",
       "\n",
       "  When \u001b[36mcheck = true\u001b[39m, an error is thrown if the decomposition fails. When \u001b[36mcheck\n",
       "  = false\u001b[39m, responsibility for checking the decomposition's validity (via\n",
       "  \u001b[36missuccess\u001b[39m) lies with the user.\n",
       "\n",
       "  In most cases, if \u001b[36mA\u001b[39m is a subtype \u001b[36mS\u001b[39m of \u001b[36mAbstractMatrix{T}\u001b[39m with an element type\n",
       "  \u001b[36mT\u001b[39m supporting \u001b[36m+\u001b[39m, \u001b[36m-\u001b[39m, \u001b[36m*\u001b[39m and \u001b[36m/\u001b[39m, the return type is \u001b[36mLU{T,S{T}}\u001b[39m. If pivoting is\n",
       "  chosen (default) the element type should also support \u001b[36mabs\u001b[39m and \u001b[36m<\u001b[39m.\n",
       "\n",
       "  The individual components of the factorization \u001b[36mF\u001b[39m can be accessed via\n",
       "  \u001b[36mgetproperty\u001b[39m:\n",
       "\n",
       "  Component Description                    \n",
       "  ––––––––– –––––––––––––––––––––––––––––––\n",
       "  \u001b[36mF.L\u001b[39m       \u001b[36mL\u001b[39m (lower triangular) part of \u001b[36mLU\u001b[39m\n",
       "  \u001b[36mF.U\u001b[39m       \u001b[36mU\u001b[39m (upper triangular) part of \u001b[36mLU\u001b[39m\n",
       "  \u001b[36mF.p\u001b[39m       (right) permutation \u001b[36mVector\u001b[39m     \n",
       "  \u001b[36mF.P\u001b[39m       (right) permutation \u001b[36mMatrix\u001b[39m     \n",
       "\n",
       "  Iterating the factorization produces the components \u001b[36mF.L\u001b[39m, \u001b[36mF.U\u001b[39m, and \u001b[36mF.p\u001b[39m.\n",
       "\n",
       "  The relationship between \u001b[36mF\u001b[39m and \u001b[36mA\u001b[39m is\n",
       "\n",
       "  \u001b[36mF.L*F.U == A[F.p, :]\u001b[39m\n",
       "\n",
       "  \u001b[36mF\u001b[39m further supports the following functions:\n",
       "\n",
       "  Supported function \u001b[36mLU\u001b[39m \u001b[36mLU{T,Tridiagonal{T}}\u001b[39m\n",
       "  –––––––––––––––––– –– ––––––––––––––––––––\n",
       "  \u001b[36m/\u001b[39m                  ✓                      \n",
       "  \u001b[36m\\\u001b[39m                  ✓  ✓                   \n",
       "  \u001b[36minv\u001b[39m                ✓  ✓                   \n",
       "  \u001b[36mdet\u001b[39m                ✓  ✓                   \n",
       "  \u001b[36mlogdet\u001b[39m             ✓  ✓                   \n",
       "  \u001b[36mlogabsdet\u001b[39m          ✓  ✓                   \n",
       "  \u001b[36msize\u001b[39m               ✓  ✓                   \n",
       "\n",
       "\u001b[1m  Examples\u001b[22m\n",
       "\u001b[1m  ≡≡≡≡≡≡≡≡≡≡\u001b[22m\n",
       "\n",
       "\u001b[36m  julia> A = [4 3; 6 3]\u001b[39m\n",
       "\u001b[36m  2×2 Array{Int64,2}:\u001b[39m\n",
       "\u001b[36m   4  3\u001b[39m\n",
       "\u001b[36m   6  3\u001b[39m\n",
       "\u001b[36m  \u001b[39m\n",
       "\u001b[36m  julia> F = lu(A)\u001b[39m\n",
       "\u001b[36m  LU{Float64,Array{Float64,2}}\u001b[39m\n",
       "\u001b[36m  L factor:\u001b[39m\n",
       "\u001b[36m  2×2 Array{Float64,2}:\u001b[39m\n",
       "\u001b[36m   1.0       0.0\u001b[39m\n",
       "\u001b[36m   0.666667  1.0\u001b[39m\n",
       "\u001b[36m  U factor:\u001b[39m\n",
       "\u001b[36m  2×2 Array{Float64,2}:\u001b[39m\n",
       "\u001b[36m   6.0  3.0\u001b[39m\n",
       "\u001b[36m   0.0  1.0\u001b[39m\n",
       "\u001b[36m  \u001b[39m\n",
       "\u001b[36m  julia> F.L * F.U == A[F.p, :]\u001b[39m\n",
       "\u001b[36m  true\u001b[39m\n",
       "\u001b[36m  \u001b[39m\n",
       "\u001b[36m  julia> l, u, p = lu(A); # destructuring via iteration\u001b[39m\n",
       "\u001b[36m  \u001b[39m\n",
       "\u001b[36m  julia> l == F.L && u == F.U && p == F.p\u001b[39m\n",
       "\u001b[36m  true\u001b[39m\n",
       "\n",
       "  ────────────────────────────────────────────────────────────────────────────\n",
       "\n",
       "\u001b[36m  lu(A::SparseMatrixCSC; check = true) -> F::UmfpackLU\u001b[39m\n",
       "\n",
       "  Compute the LU factorization of a sparse matrix \u001b[36mA\u001b[39m.\n",
       "\n",
       "  For sparse \u001b[36mA\u001b[39m with real or complex element type, the return type of \u001b[36mF\u001b[39m is\n",
       "  \u001b[36mUmfpackLU{Tv, Ti}\u001b[39m, with \u001b[36mTv\u001b[39m = \u001b[36mFloat64\u001b[39m or \u001b[36mComplexF64\u001b[39m respectively and \u001b[36mTi\u001b[39m is an\n",
       "  integer type (\u001b[36mInt32\u001b[39m or \u001b[36mInt64\u001b[39m).\n",
       "\n",
       "  When \u001b[36mcheck = true\u001b[39m, an error is thrown if the decomposition fails. When \u001b[36mcheck\n",
       "  = false\u001b[39m, responsibility for checking the decomposition's validity (via\n",
       "  \u001b[36missuccess\u001b[39m) lies with the user.\n",
       "\n",
       "  The individual components of the factorization \u001b[36mF\u001b[39m can be accessed by\n",
       "  indexing:\n",
       "\n",
       "  Component Description                    \n",
       "  ––––––––– –––––––––––––––––––––––––––––––\n",
       "  \u001b[36mL\u001b[39m         \u001b[36mL\u001b[39m (lower triangular) part of \u001b[36mLU\u001b[39m\n",
       "  \u001b[36mU\u001b[39m         \u001b[36mU\u001b[39m (upper triangular) part of \u001b[36mLU\u001b[39m\n",
       "  \u001b[36mp\u001b[39m         right permutation \u001b[36mVector\u001b[39m       \n",
       "  \u001b[36mq\u001b[39m         left permutation \u001b[36mVector\u001b[39m        \n",
       "  \u001b[36mRs\u001b[39m        \u001b[36mVector\u001b[39m of scaling factors      \n",
       "  \u001b[36m:\u001b[39m         \u001b[36m(L,U,p,q,Rs)\u001b[39m components        \n",
       "\n",
       "  The relation between \u001b[36mF\u001b[39m and \u001b[36mA\u001b[39m is\n",
       "\n",
       "  \u001b[36mF.L*F.U == (F.Rs .* A)[F.p, F.q]\u001b[39m\n",
       "\n",
       "  \u001b[36mF\u001b[39m further supports the following functions:\n",
       "\n",
       "    •    \u001b[36m\\\u001b[39m\n",
       "\n",
       "    •    \u001b[36mcond\u001b[39m\n",
       "\n",
       "    •    \u001b[36mdet\u001b[39m\n",
       "\n",
       "\u001b[36m\u001b[1m  │ \u001b[22m\u001b[39m\u001b[36m\u001b[1mNote\u001b[22m\u001b[39m\n",
       "\u001b[36m\u001b[1m  │\u001b[22m\u001b[39m\n",
       "\u001b[36m\u001b[1m  │\u001b[22m\u001b[39m  \u001b[36mlu(A::SparseMatrixCSC)\u001b[39m uses the UMFPACK library that is part of\n",
       "\u001b[36m\u001b[1m  │\u001b[22m\u001b[39m  SuiteSparse. As this library only supports sparse matrices with\n",
       "\u001b[36m\u001b[1m  │\u001b[22m\u001b[39m  \u001b[36mFloat64\u001b[39m or \u001b[36mComplexF64\u001b[39m elements, \u001b[36mlu\u001b[39m converts \u001b[36mA\u001b[39m into a copy that is\n",
       "\u001b[36m\u001b[1m  │\u001b[22m\u001b[39m  of type \u001b[36mSparseMatrixCSC{Float64}\u001b[39m or \u001b[36mSparseMatrixCSC{ComplexF64}\u001b[39m as\n",
       "\u001b[36m\u001b[1m  │\u001b[22m\u001b[39m  appropriate."
      ]
     },
     "execution_count": 45,
     "metadata": {},
     "output_type": "execute_result"
    }
   ],
   "source": [
    "? lu"
   ]
  },
  {
   "cell_type": "code",
   "execution_count": 46,
   "metadata": {},
   "outputs": [
    {
     "data": {
      "text/plain": [
       "LinearAlgebra.QRCompactWY{Float64,Array{Float64,2}}\n",
       "Q factor:\n",
       "4×4 LinearAlgebra.QRCompactWYQ{Float64,Array{Float64,2}}:\n",
       " -0.936586    0.33577    0.0911242   0.041974\n",
       " -0.280976   -0.864682   0.378336   -0.173892\n",
       " -0.187317   -0.237713  -0.865679   -0.398753\n",
       " -0.0936586  -0.288227  -0.314892    0.899442\n",
       "R factor:\n",
       "4×4 Array{Float64,2}:\n",
       " -10.6771   -6.36878  -6.08781  -4.58927\n",
       "   0.0     -11.8084   -9.58876  -1.75908\n",
       "   0.0       0.0      -5.29096  -6.27373\n",
       "   0.0       0.0       0.0      -3.23799"
      ]
     },
     "execution_count": 46,
     "metadata": {},
     "output_type": "execute_result"
    }
   ],
   "source": [
    "qr(A)"
   ]
  },
  {
   "cell_type": "code",
   "execution_count": 47,
   "metadata": {},
   "outputs": [
    {
     "data": {
      "text/plain": [
       "4×4 Array{Float64,2}:\n",
       " 10.0   2.0  2.0  3.0\n",
       "  3.0  12.0  8.0  1.0\n",
       "  2.0   4.0  8.0  8.0\n",
       "  1.0   4.0  5.0  0.0"
      ]
     },
     "execution_count": 47,
     "metadata": {},
     "output_type": "execute_result"
    }
   ],
   "source": [
    "A"
   ]
  },
  {
   "cell_type": "code",
   "execution_count": 48,
   "metadata": {},
   "outputs": [
    {
     "data": {
      "text/plain": [
       "LinearAlgebra.QRCompactWY{Float64,Array{Float64,2}}\n",
       "Q factor:\n",
       "4×4 LinearAlgebra.QRCompactWYQ{Float64,Array{Float64,2}}:\n",
       " -0.936586    0.33577    0.0911242   0.041974\n",
       " -0.280976   -0.864682   0.378336   -0.173892\n",
       " -0.187317   -0.237713  -0.865679   -0.398753\n",
       " -0.0936586  -0.288227  -0.314892    0.899442\n",
       "R factor:\n",
       "4×4 Array{Float64,2}:\n",
       " -10.6771   -6.36878  -6.08781  -4.58927\n",
       "   0.0     -11.8084   -9.58876  -1.75908\n",
       "   0.0       0.0      -5.29096  -6.27373\n",
       "   0.0       0.0       0.0      -3.23799"
      ]
     },
     "execution_count": 48,
     "metadata": {},
     "output_type": "execute_result"
    }
   ],
   "source": [
    "f1 = qr(A)"
   ]
  },
  {
   "cell_type": "code",
   "execution_count": 49,
   "metadata": {},
   "outputs": [
    {
     "data": {
      "text/plain": [
       "LU{Float64,Array{Float64,2}}\n",
       "L factor:\n",
       "4×4 Array{Float64,2}:\n",
       " 1.0  0.0       0.0       0.0\n",
       " 0.3  1.0       0.0       0.0\n",
       " 0.2  0.315789  1.0       0.0\n",
       " 0.1  0.333333  0.443333  1.0\n",
       "U factor:\n",
       "4×4 Array{Float64,2}:\n",
       " 10.0   2.0  2.0       3.0\n",
       "  0.0  11.4  7.4       0.1\n",
       "  0.0   0.0  5.26316   7.36842\n",
       "  0.0   0.0  0.0      -3.6"
      ]
     },
     "execution_count": 49,
     "metadata": {},
     "output_type": "execute_result"
    }
   ],
   "source": [
    "f2 = lu(A)"
   ]
  },
  {
   "cell_type": "code",
   "execution_count": 52,
   "metadata": {},
   "outputs": [
    {
     "data": {
      "text/plain": [
       "4-element Array{Int64,1}:\n",
       " 1\n",
       " 2\n",
       " 3\n",
       " 4"
      ]
     },
     "execution_count": 52,
     "metadata": {},
     "output_type": "execute_result"
    }
   ],
   "source": [
    "b = [1,2,3,4]"
   ]
  },
  {
   "cell_type": "code",
   "execution_count": 53,
   "metadata": {},
   "outputs": [
    {
     "data": {
      "text/plain": [
       "4-element Array{Float64,1}:\n",
       "  0.1694444444444445\n",
       " -0.7125000000000001\n",
       "  1.3361111111111112\n",
       " -0.6472222222222224"
      ]
     },
     "execution_count": 53,
     "metadata": {},
     "output_type": "execute_result"
    }
   ],
   "source": [
    "xSol = A \\ b"
   ]
  },
  {
   "cell_type": "code",
   "execution_count": 55,
   "metadata": {},
   "outputs": [
    {
     "data": {
      "text/plain": [
       "0.0"
      ]
     },
     "execution_count": 55,
     "metadata": {},
     "output_type": "execute_result"
    }
   ],
   "source": [
    "norm(A*xSol - b)"
   ]
  },
  {
   "cell_type": "markdown",
   "metadata": {},
   "source": [
    "$$\n",
    "A = LU \n",
    "$$"
   ]
  },
  {
   "cell_type": "markdown",
   "metadata": {},
   "source": []
  },
  {
   "cell_type": "code",
   "execution_count": 3,
   "metadata": {},
   "outputs": [
    {
     "name": "stderr",
     "output_type": "stream",
     "text": [
      "\u001b[32m\u001b[1m   Updating\u001b[22m\u001b[39m registry at `~/.juliapro/JuliaPro_v1.4.2-1/registries/JuliaPro`\n",
      "\u001b[32m\u001b[1m  Resolving\u001b[22m\u001b[39m package versions...\n",
      "\u001b[32m\u001b[1m   Updating\u001b[22m\u001b[39m `~/Project.toml`\n",
      "\u001b[90m [no changes]\u001b[39m\n",
      "\u001b[32m\u001b[1m   Updating\u001b[22m\u001b[39m `~/Manifest.toml`\n",
      "\u001b[90m [no changes]\u001b[39m\n"
     ]
    }
   ],
   "source": [
    "#using Pkg\n",
    "#Pkg.add(\"RowEchelon\")"
   ]
  },
  {
   "cell_type": "code",
   "execution_count": 19,
   "metadata": {},
   "outputs": [],
   "source": [
    "using RowEchelon"
   ]
  },
  {
   "cell_type": "code",
   "execution_count": 5,
   "metadata": {},
   "outputs": [
    {
     "name": "stdout",
     "output_type": "stream",
     "text": [
      "search: \u001b[0m\u001b[1mr\u001b[22m\u001b[0m\u001b[1mr\u001b[22m\u001b[0m\u001b[1me\u001b[22m\u001b[0m\u001b[1mf\u001b[22m \u001b[0m\u001b[1mr\u001b[22m\u001b[0m\u001b[1mr\u001b[22m\u001b[0m\u001b[1me\u001b[22m\u001b[0m\u001b[1mf\u001b[22m! \u001b[0m\u001b[1mr\u001b[22m\u001b[0m\u001b[1mr\u001b[22m\u001b[0m\u001b[1me\u001b[22m\u001b[0m\u001b[1mf\u001b[22m_with_pivots \u001b[0m\u001b[1mr\u001b[22m\u001b[0m\u001b[1mr\u001b[22m\u001b[0m\u001b[1me\u001b[22m\u001b[0m\u001b[1mf\u001b[22m_with_pivots! sea\u001b[0m\u001b[1mr\u001b[22mchso\u001b[0m\u001b[1mr\u001b[22mt\u001b[0m\u001b[1me\u001b[22md\u001b[0m\u001b[1mf\u001b[22mirst\n",
      "\n"
     ]
    },
    {
     "data": {
      "text/latex": [
       "\\begin{verbatim}\n",
       "rref(A)\n",
       "\\end{verbatim}\n",
       "Compute the reduced row echelon form of the matrix A. Since this algorithm is sensitive to numerical imprecision,\n",
       "\n",
       "\\begin{itemize}\n",
       "\\item Complex numbers are converted to ComplexF64\n",
       "\n",
       "\n",
       "\\item Integer, Float16 and Float32 numbers are converted to Float64\n",
       "\n",
       "\n",
       "\\item Rational are kept unchanged\n",
       "\n",
       "\\end{itemize}\n",
       "\\begin{verbatim}\n",
       "julia> rref([ 1  2 -1  -4;\n",
       "              2  3 -1 -11;\n",
       "             -2  0 -3  22])\n",
       "3×4 Array{Float64,2}:\n",
       " 1.0  0.0  0.0  -8.0\n",
       " 0.0  1.0  0.0   1.0\n",
       " 0.0  0.0  1.0  -2.0\n",
       "\n",
       "julia> rref([16  2  3  13;\n",
       "              5 11 10   8;\n",
       "              9  7  6  12;\n",
       "              4 14 15   1])\n",
       "4×4 Array{Float64,2}:\n",
       " 1.0  0.0  0.0   1.0\n",
       " 0.0  1.0  0.0   3.0\n",
       " 0.0  0.0  1.0  -3.0\n",
       " 0.0  0.0  0.0   0.0\n",
       "\n",
       "julia> rref([ 1  2  0   3;\n",
       "              2  4  0   7])\n",
       "2×4 Array{Float64,2}:\n",
       " 1.0  2.0  0.0  0.0\n",
       " 0.0  0.0  0.0  1.0\n",
       "\\end{verbatim}\n"
      ],
      "text/markdown": [
       "```\n",
       "rref(A)\n",
       "```\n",
       "\n",
       "Compute the reduced row echelon form of the matrix A. Since this algorithm is sensitive to numerical imprecision,\n",
       "\n",
       "  * Complex numbers are converted to ComplexF64\n",
       "  * Integer, Float16 and Float32 numbers are converted to Float64\n",
       "  * Rational are kept unchanged\n",
       "\n",
       "```jldoctest\n",
       "julia> rref([ 1  2 -1  -4;\n",
       "              2  3 -1 -11;\n",
       "             -2  0 -3  22])\n",
       "3×4 Array{Float64,2}:\n",
       " 1.0  0.0  0.0  -8.0\n",
       " 0.0  1.0  0.0   1.0\n",
       " 0.0  0.0  1.0  -2.0\n",
       "\n",
       "julia> rref([16  2  3  13;\n",
       "              5 11 10   8;\n",
       "              9  7  6  12;\n",
       "              4 14 15   1])\n",
       "4×4 Array{Float64,2}:\n",
       " 1.0  0.0  0.0   1.0\n",
       " 0.0  1.0  0.0   3.0\n",
       " 0.0  0.0  1.0  -3.0\n",
       " 0.0  0.0  0.0   0.0\n",
       "\n",
       "julia> rref([ 1  2  0   3;\n",
       "              2  4  0   7])\n",
       "2×4 Array{Float64,2}:\n",
       " 1.0  2.0  0.0  0.0\n",
       " 0.0  0.0  0.0  1.0\n",
       "```\n"
      ],
      "text/plain": [
       "\u001b[36m  rref(A)\u001b[39m\n",
       "\n",
       "  Compute the reduced row echelon form of the matrix A. Since this algorithm\n",
       "  is sensitive to numerical imprecision,\n",
       "\n",
       "    •    Complex numbers are converted to ComplexF64\n",
       "\n",
       "    •    Integer, Float16 and Float32 numbers are converted to Float64\n",
       "\n",
       "    •    Rational are kept unchanged\n",
       "\n",
       "\u001b[36m  julia> rref([ 1  2 -1  -4;\u001b[39m\n",
       "\u001b[36m                2  3 -1 -11;\u001b[39m\n",
       "\u001b[36m               -2  0 -3  22])\u001b[39m\n",
       "\u001b[36m  3×4 Array{Float64,2}:\u001b[39m\n",
       "\u001b[36m   1.0  0.0  0.0  -8.0\u001b[39m\n",
       "\u001b[36m   0.0  1.0  0.0   1.0\u001b[39m\n",
       "\u001b[36m   0.0  0.0  1.0  -2.0\u001b[39m\n",
       "\u001b[36m  \u001b[39m\n",
       "\u001b[36m  julia> rref([16  2  3  13;\u001b[39m\n",
       "\u001b[36m                5 11 10   8;\u001b[39m\n",
       "\u001b[36m                9  7  6  12;\u001b[39m\n",
       "\u001b[36m                4 14 15   1])\u001b[39m\n",
       "\u001b[36m  4×4 Array{Float64,2}:\u001b[39m\n",
       "\u001b[36m   1.0  0.0  0.0   1.0\u001b[39m\n",
       "\u001b[36m   0.0  1.0  0.0   3.0\u001b[39m\n",
       "\u001b[36m   0.0  0.0  1.0  -3.0\u001b[39m\n",
       "\u001b[36m   0.0  0.0  0.0   0.0\u001b[39m\n",
       "\u001b[36m  \u001b[39m\n",
       "\u001b[36m  julia> rref([ 1  2  0   3;\u001b[39m\n",
       "\u001b[36m                2  4  0   7])\u001b[39m\n",
       "\u001b[36m  2×4 Array{Float64,2}:\u001b[39m\n",
       "\u001b[36m   1.0  2.0  0.0  0.0\u001b[39m\n",
       "\u001b[36m   0.0  0.0  0.0  1.0\u001b[39m"
      ]
     },
     "execution_count": 5,
     "metadata": {},
     "output_type": "execute_result"
    }
   ],
   "source": [
    "? rref"
   ]
  },
  {
   "cell_type": "code",
   "execution_count": 21,
   "metadata": {},
   "outputs": [
    {
     "data": {
      "text/plain": [
       "2×3 Array{Float64,2}:\n",
       " 1.0  0.0  3.0\n",
       " 0.0  1.0  1.0"
      ]
     },
     "execution_count": 21,
     "metadata": {},
     "output_type": "execute_result"
    }
   ],
   "source": [
    "rref([A [1,11]])"
   ]
  },
  {
   "cell_type": "markdown",
   "metadata": {},
   "source": [
    "### Computing the inverse"
   ]
  },
  {
   "cell_type": "code",
   "execution_count": 7,
   "metadata": {},
   "outputs": [
    {
     "data": {
      "text/plain": [
       "2×4 Array{Int64,2}:\n",
       " 1  -2  1  0\n",
       " 3   2  0  1"
      ]
     },
     "execution_count": 7,
     "metadata": {},
     "output_type": "execute_result"
    }
   ],
   "source": [
    "using LinearAlgebra\n",
    "[A I]"
   ]
  },
  {
   "cell_type": "code",
   "execution_count": 8,
   "metadata": {},
   "outputs": [
    {
     "data": {
      "text/plain": [
       "2×4 Array{Float64,2}:\n",
       " 1.0  0.0   0.25   0.25\n",
       " 0.0  1.0  -0.375  0.125"
      ]
     },
     "execution_count": 8,
     "metadata": {},
     "output_type": "execute_result"
    }
   ],
   "source": [
    "R = rref([A I])"
   ]
  },
  {
   "cell_type": "code",
   "execution_count": 66,
   "metadata": {},
   "outputs": [
    {
     "data": {
      "text/plain": [
       "2×2 Array{Float64,2}:\n",
       "  0.25   0.25\n",
       " -0.375  0.125"
      ]
     },
     "execution_count": 66,
     "metadata": {},
     "output_type": "execute_result"
    }
   ],
   "source": [
    "inv(A)"
   ]
  },
  {
   "cell_type": "code",
   "execution_count": 10,
   "metadata": {},
   "outputs": [
    {
     "data": {
      "text/plain": [
       "2×2 Array{Float64,2}:\n",
       "  0.25   0.25\n",
       " -0.375  0.125"
      ]
     },
     "execution_count": 10,
     "metadata": {},
     "output_type": "execute_result"
    }
   ],
   "source": [
    "R[:,3:4]"
   ]
  },
  {
   "cell_type": "markdown",
   "metadata": {},
   "source": [
    "### Rank"
   ]
  },
  {
   "cell_type": "code",
   "execution_count": 22,
   "metadata": {},
   "outputs": [
    {
     "data": {
      "text/plain": [
       "3×4 Array{Int64,2}:\n",
       " 1  2  3  4\n",
       " 5  6  7  8\n",
       " 2  4  6  8"
      ]
     },
     "execution_count": 22,
     "metadata": {},
     "output_type": "execute_result"
    }
   ],
   "source": [
    "A = [1 2 3 4;\n",
    "     5 6 7 8;\n",
    "     2 4 6 8]"
   ]
  },
  {
   "cell_type": "code",
   "execution_count": 23,
   "metadata": {},
   "outputs": [
    {
     "data": {
      "text/plain": [
       "3×4 Array{Float64,2}:\n",
       " 1.0  0.0  -1.0  -2.0\n",
       " 0.0  1.0   2.0   3.0\n",
       " 0.0  0.0   0.0   0.0"
      ]
     },
     "execution_count": 23,
     "metadata": {},
     "output_type": "execute_result"
    }
   ],
   "source": [
    "rref(A)"
   ]
  },
  {
   "cell_type": "code",
   "execution_count": 24,
   "metadata": {},
   "outputs": [
    {
     "data": {
      "text/plain": [
       "2"
      ]
     },
     "execution_count": 24,
     "metadata": {},
     "output_type": "execute_result"
    }
   ],
   "source": [
    "rank(A)"
   ]
  },
  {
   "cell_type": "code",
   "execution_count": 31,
   "metadata": {},
   "outputs": [
    {
     "data": {
      "text/plain": [
       "3×4 Array{Int64,2}:\n",
       " 1  2  3  4\n",
       " 5  6  7  8\n",
       " 2  4  6  9"
      ]
     },
     "execution_count": 31,
     "metadata": {},
     "output_type": "execute_result"
    }
   ],
   "source": [
    "B = [1 2 3 4;\n",
    "     5 6 7 8;\n",
    "     2 4 6 9]"
   ]
  },
  {
   "cell_type": "code",
   "execution_count": 32,
   "metadata": {},
   "outputs": [
    {
     "data": {
      "text/plain": [
       "3"
      ]
     },
     "execution_count": 32,
     "metadata": {},
     "output_type": "execute_result"
    }
   ],
   "source": [
    "rank(B)"
   ]
  },
  {
   "cell_type": "code",
   "execution_count": 33,
   "metadata": {},
   "outputs": [
    {
     "data": {
      "text/plain": [
       "3×4 Array{Float64,2}:\n",
       " 1.0  0.0  -1.0  0.0\n",
       " 0.0  1.0   2.0  0.0\n",
       " 0.0  0.0   0.0  1.0"
      ]
     },
     "execution_count": 33,
     "metadata": {},
     "output_type": "execute_result"
    }
   ],
   "source": [
    "rref(B)"
   ]
  },
  {
   "cell_type": "code",
   "execution_count": 46,
   "metadata": {},
   "outputs": [
    {
     "data": {
      "text/plain": [
       "3×3 Array{Int64,2}:\n",
       " 1  2  3\n",
       " 4  5  6\n",
       " 2  4  6"
      ]
     },
     "execution_count": 46,
     "metadata": {},
     "output_type": "execute_result"
    }
   ],
   "source": [
    "A = [1 2 3;\n",
    "     4 5 6;\n",
    "     2 4 6]"
   ]
  },
  {
   "cell_type": "code",
   "execution_count": 47,
   "metadata": {},
   "outputs": [
    {
     "data": {
      "text/plain": [
       "2"
      ]
     },
     "execution_count": 47,
     "metadata": {},
     "output_type": "execute_result"
    }
   ],
   "source": [
    "rank(A)"
   ]
  },
  {
   "cell_type": "code",
   "execution_count": 48,
   "metadata": {},
   "outputs": [
    {
     "data": {
      "text/plain": [
       "0.0"
      ]
     },
     "execution_count": 48,
     "metadata": {},
     "output_type": "execute_result"
    }
   ],
   "source": [
    "det(A)"
   ]
  },
  {
   "cell_type": "code",
   "execution_count": 49,
   "metadata": {},
   "outputs": [
    {
     "ename": "SingularException",
     "evalue": "SingularException(3)",
     "output_type": "error",
     "traceback": [
      "SingularException(3)",
      "",
      "Stacktrace:",
      " [1] checknonsingular at /Users/vagrant/worker/juliapro-release-osx1011-0_6/build/tmp_julia/Julia-1.4.app/Contents/Resources/julia/share/julia/stdlib/v1.4/LinearAlgebra/src/factorization.jl:19 [inlined]",
      " [2] checknonsingular at /Users/vagrant/worker/juliapro-release-osx1011-0_6/build/tmp_julia/Julia-1.4.app/Contents/Resources/julia/share/julia/stdlib/v1.4/LinearAlgebra/src/factorization.jl:21 [inlined]",
      " [3] lu!(::Array{Float64,2}, ::Val{true}; check::Bool) at /Users/vagrant/worker/juliapro-release-osx1011-0_6/build/tmp_julia/Julia-1.4.app/Contents/Resources/julia/share/julia/stdlib/v1.4/LinearAlgebra/src/lu.jl:85",
      " [4] #lu#142 at /Users/vagrant/worker/juliapro-release-osx1011-0_6/build/tmp_julia/Julia-1.4.app/Contents/Resources/julia/share/julia/stdlib/v1.4/LinearAlgebra/src/lu.jl:273 [inlined]",
      " [5] lu at /Users/vagrant/worker/juliapro-release-osx1011-0_6/build/tmp_julia/Julia-1.4.app/Contents/Resources/julia/share/julia/stdlib/v1.4/LinearAlgebra/src/lu.jl:272 [inlined] (repeats 2 times)",
      " [6] inv(::Array{Int64,2}) at /Users/vagrant/worker/juliapro-release-osx1011-0_6/build/tmp_julia/Julia-1.4.app/Contents/Resources/julia/share/julia/stdlib/v1.4/LinearAlgebra/src/dense.jl:770",
      " [7] top-level scope at In[49]:1"
     ]
    }
   ],
   "source": [
    "inv(A)"
   ]
  },
  {
   "cell_type": "code",
   "execution_count": 43,
   "metadata": {},
   "outputs": [
    {
     "data": {
      "text/plain": [
       "3×3 Array{Int64,2}:\n",
       "  1   2   3\n",
       " 10  20  30\n",
       "  2   4   6"
      ]
     },
     "execution_count": 43,
     "metadata": {},
     "output_type": "execute_result"
    }
   ],
   "source": [
    "A = [1,10,2]*[1,2,3]'"
   ]
  },
  {
   "cell_type": "code",
   "execution_count": 44,
   "metadata": {},
   "outputs": [
    {
     "data": {
      "text/plain": [
       "1"
      ]
     },
     "execution_count": 44,
     "metadata": {},
     "output_type": "execute_result"
    }
   ],
   "source": [
    "rank(A)"
   ]
  },
  {
   "cell_type": "code",
   "execution_count": 45,
   "metadata": {},
   "outputs": [
    {
     "ename": "SingularException",
     "evalue": "SingularException(2)",
     "output_type": "error",
     "traceback": [
      "SingularException(2)",
      "",
      "Stacktrace:",
      " [1] checknonsingular at /Users/vagrant/worker/juliapro-release-osx1011-0_6/build/tmp_julia/Julia-1.4.app/Contents/Resources/julia/share/julia/stdlib/v1.4/LinearAlgebra/src/factorization.jl:19 [inlined]",
      " [2] checknonsingular at /Users/vagrant/worker/juliapro-release-osx1011-0_6/build/tmp_julia/Julia-1.4.app/Contents/Resources/julia/share/julia/stdlib/v1.4/LinearAlgebra/src/factorization.jl:21 [inlined]",
      " [3] lu!(::Array{Float64,2}, ::Val{true}; check::Bool) at /Users/vagrant/worker/juliapro-release-osx1011-0_6/build/tmp_julia/Julia-1.4.app/Contents/Resources/julia/share/julia/stdlib/v1.4/LinearAlgebra/src/lu.jl:85",
      " [4] #lu#142 at /Users/vagrant/worker/juliapro-release-osx1011-0_6/build/tmp_julia/Julia-1.4.app/Contents/Resources/julia/share/julia/stdlib/v1.4/LinearAlgebra/src/lu.jl:273 [inlined]",
      " [5] lu at /Users/vagrant/worker/juliapro-release-osx1011-0_6/build/tmp_julia/Julia-1.4.app/Contents/Resources/julia/share/julia/stdlib/v1.4/LinearAlgebra/src/lu.jl:272 [inlined] (repeats 2 times)",
      " [6] inv(::Array{Int64,2}) at /Users/vagrant/worker/juliapro-release-osx1011-0_6/build/tmp_julia/Julia-1.4.app/Contents/Resources/julia/share/julia/stdlib/v1.4/LinearAlgebra/src/dense.jl:770",
      " [7] top-level scope at In[45]:1"
     ]
    }
   ],
   "source": [
    "inv(A)"
   ]
  },
  {
   "cell_type": "markdown",
   "metadata": {},
   "source": [
    "### LU decomposition"
   ]
  },
  {
   "cell_type": "code",
   "execution_count": 50,
   "metadata": {},
   "outputs": [
    {
     "data": {
      "text/plain": [
       "2×2 Array{Int64,2}:\n",
       " 2  1\n",
       " 6  8"
      ]
     },
     "execution_count": 50,
     "metadata": {},
     "output_type": "execute_result"
    }
   ],
   "source": [
    "A = [2 1; 6 8]"
   ]
  },
  {
   "cell_type": "code",
   "execution_count": 51,
   "metadata": {},
   "outputs": [
    {
     "data": {
      "text/plain": [
       "2×2 Array{Int64,2}:\n",
       "  1  0\n",
       " -3  1"
      ]
     },
     "execution_count": 51,
     "metadata": {},
     "output_type": "execute_result"
    }
   ],
   "source": [
    "E21 = [1 0; -3 1]"
   ]
  },
  {
   "cell_type": "code",
   "execution_count": 53,
   "metadata": {},
   "outputs": [
    {
     "data": {
      "text/plain": [
       "2×2 Array{Int64,2}:\n",
       " 2  1\n",
       " 0  5"
      ]
     },
     "execution_count": 53,
     "metadata": {},
     "output_type": "execute_result"
    }
   ],
   "source": [
    "U = E21*A"
   ]
  },
  {
   "cell_type": "code",
   "execution_count": 54,
   "metadata": {},
   "outputs": [
    {
     "data": {
      "text/plain": [
       "2×2 Array{Float64,2}:\n",
       " 1.0  0.0\n",
       " 3.0  1.0"
      ]
     },
     "execution_count": 54,
     "metadata": {},
     "output_type": "execute_result"
    }
   ],
   "source": [
    "inv(E21)"
   ]
  },
  {
   "cell_type": "code",
   "execution_count": 58,
   "metadata": {},
   "outputs": [
    {
     "data": {
      "text/plain": [
       "2×2 Array{Float64,2}:\n",
       " 1.0  0.0\n",
       " 3.0  1.0"
      ]
     },
     "execution_count": 58,
     "metadata": {},
     "output_type": "execute_result"
    }
   ],
   "source": [
    "L = inv(E21)"
   ]
  },
  {
   "cell_type": "code",
   "execution_count": 59,
   "metadata": {},
   "outputs": [
    {
     "data": {
      "text/plain": [
       "2×2 Array{Float64,2}:\n",
       " 2.0  1.0\n",
       " 6.0  8.0"
      ]
     },
     "execution_count": 59,
     "metadata": {},
     "output_type": "execute_result"
    }
   ],
   "source": [
    "L*U"
   ]
  },
  {
   "cell_type": "code",
   "execution_count": 61,
   "metadata": {},
   "outputs": [
    {
     "data": {
      "text/plain": [
       "LU{Float64,Tridiagonal{Float64,Array{Float64,1}}}\n",
       "L factor:\n",
       "2×2 Array{Float64,2}:\n",
       " 1.0       0.0\n",
       " 0.333333  1.0\n",
       "U factor:\n",
       "2×2 Array{Float64,2}:\n",
       " 6.0   8.0\n",
       " 0.0  -1.66667"
      ]
     },
     "execution_count": 61,
     "metadata": {},
     "output_type": "execute_result"
    }
   ],
   "source": [
    "F = factorize(A)"
   ]
  },
  {
   "cell_type": "code",
   "execution_count": 69,
   "metadata": {},
   "outputs": [
    {
     "data": {
      "text/plain": [
       "LU{Float64,Array{Float64,2}}\n",
       "L factor:\n",
       "2×2 Array{Float64,2}:\n",
       " 1.0       0.0\n",
       " 0.333333  1.0\n",
       "U factor:\n",
       "2×2 Array{Float64,2}:\n",
       " 6.0   8.0\n",
       " 0.0  -1.66667"
      ]
     },
     "execution_count": 69,
     "metadata": {},
     "output_type": "execute_result"
    }
   ],
   "source": [
    "lu(A)"
   ]
  },
  {
   "cell_type": "code",
   "execution_count": 64,
   "metadata": {},
   "outputs": [
    {
     "data": {
      "text/plain": [
       "2×2 Array{Float64,2}:\n",
       " 6.0  8.0\n",
       " 2.0  1.0"
      ]
     },
     "execution_count": 64,
     "metadata": {},
     "output_type": "execute_result"
    }
   ],
   "source": [
    "F.L*F.U"
   ]
  },
  {
   "cell_type": "code",
   "execution_count": 65,
   "metadata": {},
   "outputs": [
    {
     "name": "stdout",
     "output_type": "stream",
     "text": [
      "search: \u001b[0m\u001b[1mL\u001b[22m\u001b[0m\u001b[1mU\u001b[22m \u001b[0m\u001b[1ml\u001b[22m\u001b[0m\u001b[1mu\u001b[22m \u001b[0m\u001b[1ml\u001b[22m\u001b[0m\u001b[1mu\u001b[22m! f\u001b[0m\u001b[1ml\u001b[22m\u001b[0m\u001b[1mu\u001b[22msh va\u001b[0m\u001b[1ml\u001b[22m\u001b[0m\u001b[1mu\u001b[22mes inc\u001b[0m\u001b[1ml\u001b[22m\u001b[0m\u001b[1mu\u001b[22mde inc\u001b[0m\u001b[1ml\u001b[22m\u001b[0m\u001b[1mu\u001b[22mde_string inc\u001b[0m\u001b[1ml\u001b[22m\u001b[0m\u001b[1mu\u001b[22mde_dependency \u001b[0m\u001b[1ml\u001b[22mm\u001b[0m\u001b[1mu\u001b[22ml!\n",
      "\n"
     ]
    },
    {
     "data": {
      "text/latex": [
       "\\begin{verbatim}\n",
       "LU <: Factorization\n",
       "\\end{verbatim}\n",
       "Matrix factorization type of the \\texttt{LU} factorization of a square matrix \\texttt{A}. This is the return type of \\href{@ref}{\\texttt{lu}}, the corresponding matrix factorization function.\n",
       "\n",
       "The individual components of the factorization \\texttt{F::LU} can be accessed via \\texttt{getproperty}:\n",
       "\n",
       "\\begin{tabular}\n",
       "{l | l}\n",
       "Component & Description \\\\\n",
       "\\hline\n",
       "\\texttt{F.L} & \\texttt{L} (unit lower triangular) part of \\texttt{LU} \\\\\n",
       "\\texttt{F.U} & \\texttt{U} (upper triangular) part of \\texttt{LU} \\\\\n",
       "\\texttt{F.p} & (right) permutation \\texttt{Vector} \\\\\n",
       "\\texttt{F.P} & (right) permutation \\texttt{Matrix} \\\\\n",
       "\\end{tabular}\n",
       "Iterating the factorization produces the components \\texttt{F.L}, \\texttt{F.U}, and \\texttt{F.p}.\n",
       "\n",
       "\\section{Examples}\n",
       "\\begin{verbatim}\n",
       "julia> A = [4 3; 6 3]\n",
       "2×2 Array{Int64,2}:\n",
       " 4  3\n",
       " 6  3\n",
       "\n",
       "julia> F = lu(A)\n",
       "LU{Float64,Array{Float64,2}}\n",
       "L factor:\n",
       "2×2 Array{Float64,2}:\n",
       " 1.0       0.0\n",
       " 0.666667  1.0\n",
       "U factor:\n",
       "2×2 Array{Float64,2}:\n",
       " 6.0  3.0\n",
       " 0.0  1.0\n",
       "\n",
       "julia> F.L * F.U == A[F.p, :]\n",
       "true\n",
       "\n",
       "julia> l, u, p = lu(A); # destructuring via iteration\n",
       "\n",
       "julia> l == F.L && u == F.U && p == F.p\n",
       "true\n",
       "\\end{verbatim}\n"
      ],
      "text/markdown": [
       "```\n",
       "LU <: Factorization\n",
       "```\n",
       "\n",
       "Matrix factorization type of the `LU` factorization of a square matrix `A`. This is the return type of [`lu`](@ref), the corresponding matrix factorization function.\n",
       "\n",
       "The individual components of the factorization `F::LU` can be accessed via `getproperty`:\n",
       "\n",
       "| Component | Description                              |\n",
       "|:--------- |:---------------------------------------- |\n",
       "| `F.L`     | `L` (unit lower triangular) part of `LU` |\n",
       "| `F.U`     | `U` (upper triangular) part of `LU`      |\n",
       "| `F.p`     | (right) permutation `Vector`             |\n",
       "| `F.P`     | (right) permutation `Matrix`             |\n",
       "\n",
       "Iterating the factorization produces the components `F.L`, `F.U`, and `F.p`.\n",
       "\n",
       "# Examples\n",
       "\n",
       "```jldoctest\n",
       "julia> A = [4 3; 6 3]\n",
       "2×2 Array{Int64,2}:\n",
       " 4  3\n",
       " 6  3\n",
       "\n",
       "julia> F = lu(A)\n",
       "LU{Float64,Array{Float64,2}}\n",
       "L factor:\n",
       "2×2 Array{Float64,2}:\n",
       " 1.0       0.0\n",
       " 0.666667  1.0\n",
       "U factor:\n",
       "2×2 Array{Float64,2}:\n",
       " 6.0  3.0\n",
       " 0.0  1.0\n",
       "\n",
       "julia> F.L * F.U == A[F.p, :]\n",
       "true\n",
       "\n",
       "julia> l, u, p = lu(A); # destructuring via iteration\n",
       "\n",
       "julia> l == F.L && u == F.U && p == F.p\n",
       "true\n",
       "```\n"
      ],
      "text/plain": [
       "\u001b[36m  LU <: Factorization\u001b[39m\n",
       "\n",
       "  Matrix factorization type of the \u001b[36mLU\u001b[39m factorization of a square matrix \u001b[36mA\u001b[39m. This\n",
       "  is the return type of \u001b[36mlu\u001b[39m, the corresponding matrix factorization function.\n",
       "\n",
       "  The individual components of the factorization \u001b[36mF::LU\u001b[39m can be accessed via\n",
       "  \u001b[36mgetproperty\u001b[39m:\n",
       "\n",
       "  Component Description                         \n",
       "  ––––––––– ––––––––––––––––––––––––––––––––––––\n",
       "  \u001b[36mF.L\u001b[39m       \u001b[36mL\u001b[39m (unit lower triangular) part of \u001b[36mLU\u001b[39m\n",
       "  \u001b[36mF.U\u001b[39m       \u001b[36mU\u001b[39m (upper triangular) part of \u001b[36mLU\u001b[39m     \n",
       "  \u001b[36mF.p\u001b[39m       (right) permutation \u001b[36mVector\u001b[39m          \n",
       "  \u001b[36mF.P\u001b[39m       (right) permutation \u001b[36mMatrix\u001b[39m          \n",
       "\n",
       "  Iterating the factorization produces the components \u001b[36mF.L\u001b[39m, \u001b[36mF.U\u001b[39m, and \u001b[36mF.p\u001b[39m.\n",
       "\n",
       "\u001b[1m  Examples\u001b[22m\n",
       "\u001b[1m  ≡≡≡≡≡≡≡≡≡≡\u001b[22m\n",
       "\n",
       "\u001b[36m  julia> A = [4 3; 6 3]\u001b[39m\n",
       "\u001b[36m  2×2 Array{Int64,2}:\u001b[39m\n",
       "\u001b[36m   4  3\u001b[39m\n",
       "\u001b[36m   6  3\u001b[39m\n",
       "\u001b[36m  \u001b[39m\n",
       "\u001b[36m  julia> F = lu(A)\u001b[39m\n",
       "\u001b[36m  LU{Float64,Array{Float64,2}}\u001b[39m\n",
       "\u001b[36m  L factor:\u001b[39m\n",
       "\u001b[36m  2×2 Array{Float64,2}:\u001b[39m\n",
       "\u001b[36m   1.0       0.0\u001b[39m\n",
       "\u001b[36m   0.666667  1.0\u001b[39m\n",
       "\u001b[36m  U factor:\u001b[39m\n",
       "\u001b[36m  2×2 Array{Float64,2}:\u001b[39m\n",
       "\u001b[36m   6.0  3.0\u001b[39m\n",
       "\u001b[36m   0.0  1.0\u001b[39m\n",
       "\u001b[36m  \u001b[39m\n",
       "\u001b[36m  julia> F.L * F.U == A[F.p, :]\u001b[39m\n",
       "\u001b[36m  true\u001b[39m\n",
       "\u001b[36m  \u001b[39m\n",
       "\u001b[36m  julia> l, u, p = lu(A); # destructuring via iteration\u001b[39m\n",
       "\u001b[36m  \u001b[39m\n",
       "\u001b[36m  julia> l == F.L && u == F.U && p == F.p\u001b[39m\n",
       "\u001b[36m  true\u001b[39m"
      ]
     },
     "execution_count": 65,
     "metadata": {},
     "output_type": "execute_result"
    }
   ],
   "source": [
    "? LU"
   ]
  },
  {
   "cell_type": "code",
   "execution_count": 66,
   "metadata": {},
   "outputs": [
    {
     "data": {
      "text/plain": [
       "2-element Array{Int64,1}:\n",
       " 2\n",
       " 1"
      ]
     },
     "execution_count": 66,
     "metadata": {},
     "output_type": "execute_result"
    }
   ],
   "source": [
    "F.p"
   ]
  },
  {
   "cell_type": "code",
   "execution_count": 67,
   "metadata": {},
   "outputs": [
    {
     "data": {
      "text/plain": [
       "2×2 Array{Float64,2}:\n",
       " 0.0  1.0\n",
       " 1.0  0.0"
      ]
     },
     "execution_count": 67,
     "metadata": {},
     "output_type": "execute_result"
    }
   ],
   "source": [
    "F.P"
   ]
  },
  {
   "cell_type": "code",
   "execution_count": 68,
   "metadata": {},
   "outputs": [
    {
     "data": {
      "text/plain": [
       "2×2 Array{Float64,2}:\n",
       " 2.0  1.0\n",
       " 6.0  8.0"
      ]
     },
     "execution_count": 68,
     "metadata": {},
     "output_type": "execute_result"
    }
   ],
   "source": [
    "F.P*F.L*F.U"
   ]
  },
  {
   "cell_type": "markdown",
   "metadata": {},
   "source": [
    "### Taylor Series\n",
    "See [VMLS] Appendix C"
   ]
  },
  {
   "cell_type": "markdown",
   "metadata": {},
   "source": [
    "$$\n",
    "f: \\mathbf{R}^{n} \\rightarrow \\mathbf{R}\n",
    "$$"
   ]
  },
  {
   "cell_type": "markdown",
   "metadata": {},
   "source": [
    "$$\n",
    "\\nabla f(z)=\\left[\\begin{array}{c}\\frac{\\partial f}{\\partial x_{1}}(z) \\\\ \\vdots \\\\ \\frac{\\partial f}{\\partial x_{n}}(z)\\end{array}\\right]\n",
    "$$"
   ]
  },
  {
   "cell_type": "markdown",
   "metadata": {},
   "source": [
    "$$\n",
    "\\hat{f}(x)=f(z)+\\frac{\\partial f}{\\partial x_{1}}(z)\\left(x_{1}-z_{1}\\right)+\\cdots+\\frac{\\partial f}{\\partial x_{n}}(z)\\left(x_{n}-z_{n}\\right)\n",
    "$$"
   ]
  },
  {
   "cell_type": "markdown",
   "metadata": {},
   "source": [
    "$$\n",
    "\\hat{f}(x ; z)=f(z)+\\nabla f(z)^{T}(x-z)\n",
    "$$"
   ]
  },
  {
   "cell_type": "markdown",
   "metadata": {},
   "source": [
    "$$\n",
    "f: \\mathbf{R}^{n} \\rightarrow \\mathbf{R}^{m}\n",
    "$$"
   ]
  },
  {
   "cell_type": "markdown",
   "metadata": {},
   "source": [
    "$$\n",
    "f(x)=\\left[\\begin{array}{c}f_{1}(x) \\\\ \\vdots \\\\ f_{m}(x)\\end{array}\\right]\n",
    "$$"
   ]
  },
  {
   "cell_type": "markdown",
   "metadata": {},
   "source": [
    "Jacobian:\n",
    "$$\n",
    "D f(z)_{i j}=\\frac{\\partial f_{i}}{\\partial x_{j}}(z), \\quad i=1, \\ldots, m, \\quad j=1, \\ldots, n\n",
    "$$"
   ]
  },
  {
   "cell_type": "markdown",
   "metadata": {},
   "source": [
    "rows are: $$\\nabla f_{i}(z)^{T}, \\text { for } i=1, \\ldots, m$$"
   ]
  },
  {
   "cell_type": "markdown",
   "metadata": {},
   "source": [
    "Taylor approximation:\n",
    "\n",
    "$$\n",
    "\\begin{aligned} \\hat{f}(x)_{i} &=f_{i}(z)+\\frac{\\partial f_{i}}{\\partial x_{1}}(z)\\left(x_{1}-z_{1}\\right)+\\cdots+\\frac{\\partial f_{i}}{\\partial x_{n}}(z)\\left(x_{n}-z_{n}\\right) \\\\ &=f_{i}(z)+\\nabla f_{i}(z)^{T}(x-z) \\end{aligned}\n",
    "$$"
   ]
  },
  {
   "cell_type": "markdown",
   "metadata": {},
   "source": [
    "$$\n",
    "\\hat{f}(x)=f(z)+D f(z)(x-z)\n",
    "$$"
   ]
  }
 ],
 "metadata": {
  "@webio": {
   "lastCommId": null,
   "lastKernelId": null
  },
  "kernelspec": {
   "display_name": "Julia 1.4.2",
   "language": "julia",
   "name": "julia-1.4"
  },
  "language_info": {
   "file_extension": ".jl",
   "mimetype": "application/julia",
   "name": "julia",
   "version": "1.4.2"
  }
 },
 "nbformat": 4,
 "nbformat_minor": 2
}
